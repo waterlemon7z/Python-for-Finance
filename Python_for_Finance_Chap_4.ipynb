{
  "nbformat": 4,
  "nbformat_minor": 0,
  "metadata": {
    "colab": {
      "provenance": [],
      "authorship_tag": "ABX9TyPZG7PKi/iqqgv0P2eaqEN+"
    },
    "kernelspec": {
      "name": "python3",
      "display_name": "Python 3"
    },
    "language_info": {
      "name": "python"
    }
  },
  "cells": [
    {
      "cell_type": "code",
      "execution_count": null,
      "metadata": {
        "colab": {
          "base_uri": "https://localhost:8080/"
        },
        "id": "s9kbeDm-TqlJ",
        "outputId": "596df0ee-29c5-45ee-af8b-e32851ab4531"
      },
      "outputs": [
        {
          "output_type": "execute_result",
          "data": {
            "text/plain": [
              "array('f', [0.5, 0.75, 1.0, 1.5, 2.0, 5.0, 6.75, 0.5, 0.75, 1.0, 1.5, 2.0, 5.0, 6.75])"
            ]
          },
          "metadata": {},
          "execution_count": 2
        }
      ],
      "source": [
        "v = [0.5, 0.75, 1.0, 1.5, 2.0]\n",
        "import array\n",
        "a = array.array('f', v)\n",
        "a\n",
        "a.extend([5.0,6.75])\n",
        "a\n",
        "2 * a\n"
      ]
    },
    {
      "cell_type": "code",
      "source": [
        "import numpy as np\n",
        "a = np.array([0,0.5,1.0,1.5,2.0])\n",
        "\n",
        "type(a)\n",
        "a = np.array(['a','b','c'])\n",
        "a = np.arange(2,20,2)\n",
        "\n",
        "np.exp(a)\n",
        "\n",
        "b = np.array([a,a*2])\n",
        "b\n",
        "\n",
        "c = np.zeros((2,3),order='C')\n",
        "c\n",
        "c = np.ones((2,3,4), dtype='i', order='C')\n",
        "c\n",
        "\n",
        "e = np.empty((2,3,2))\n",
        "e\n"
      ],
      "metadata": {
        "colab": {
          "base_uri": "https://localhost:8080/"
        },
        "id": "irhWH38qWoZz",
        "outputId": "249f2825-5b91-4212-8c21-b2b190292798"
      },
      "execution_count": null,
      "outputs": [
        {
          "output_type": "execute_result",
          "data": {
            "text/plain": [
              "array([[[5.04114336e-310, 0.00000000e+000],\n",
              "        [0.00000000e+000, 0.00000000e+000],\n",
              "        [0.00000000e+000, 0.00000000e+000]],\n",
              "\n",
              "       [[0.00000000e+000, 0.00000000e+000],\n",
              "        [0.00000000e+000, 0.00000000e+000],\n",
              "        [0.00000000e+000, 0.00000000e+000]]])"
            ]
          },
          "metadata": {},
          "execution_count": 18
        }
      ]
    },
    {
      "cell_type": "code",
      "source": [
        "import random\n",
        "\n",
        "I = 5000\n",
        "\n",
        "%time mat = [[random.gauss(0,1) for j in range(I)]\\\n",
        "             for i in range(I)]"
      ],
      "metadata": {
        "colab": {
          "base_uri": "https://localhost:8080/"
        },
        "id": "fYv6oz-IgiGf",
        "outputId": "8805d6d8-f959-4259-86d4-01cf168c4ced"
      },
      "execution_count": null,
      "outputs": [
        {
          "output_type": "stream",
          "name": "stdout",
          "text": [
            "CPU times: user 19.2 s, sys: 718 ms, total: 20 s\n",
            "Wall time: 20.1 s\n"
          ]
        }
      ]
    },
    {
      "cell_type": "code",
      "source": [
        "import numpy as np\n",
        "\n",
        "dt = np.dtype([('Name', 'S10'), ('Age','i4'),\n",
        "               ('Height', 'f'), ('Children/Pets','i4',2)])\n",
        "dt"
      ],
      "metadata": {
        "colab": {
          "base_uri": "https://localhost:8080/"
        },
        "id": "hlrV9xwk6Ubm",
        "outputId": "cd935d43-6103-4092-c6cd-6a9072416e05"
      },
      "execution_count": null,
      "outputs": [
        {
          "output_type": "execute_result",
          "data": {
            "text/plain": [
              "dtype([('Name', 'S10'), ('Age', '<i4'), ('Height', '<f4'), ('Children/Pets', '<i4', (2,))])"
            ]
          },
          "metadata": {},
          "execution_count": 2
        }
      ]
    }
  ]
}